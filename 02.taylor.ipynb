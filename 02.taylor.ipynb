{
 "cells": [
  {
   "cell_type": "markdown",
   "metadata": {},
   "source": [
    "# Чуть-чуть математики\n",
    "\n",
    "Теперь давайте попробуем написать функцию. Например, чтобы приближённо считала синус. Для небольших $x$:\n",
    "\n",
    "$$\\sin x = x - \\frac{x^3}{3!} + \\frac{x^5}{5!} - \\frac{x^7}{7!} + \\ldots + R(x) =\n",
    "\\sum_{n=0}^N (-1)^n \\frac{x^{2n+1}}{(2n+1)!} + R(x),$$\n",
    "\n",
    "причём $R(x) \\xrightarrow[N \\rightarrow \\infty]{} 0$.\n",
    "\n",
    "Это частичная сумма т.н. ряда Тейлора:\n",
    "\n",
    "$$ f(x) = f(a)+\\sum_{k=1}^\\infty {f^{(k)} (a) \\over k!} (x - a)^k. $$"
   ]
  },
  {
   "cell_type": "code",
   "execution_count": null,
   "metadata": {},
   "outputs": [],
   "source": [
    "import math\n",
    "\n",
    "ITERATIONS = 20\n",
    "\n",
    "def my_sin(x):\n",
    "    \"\"\"\n",
    "    Вычисление синуса при помощи частичного суммирования\n",
    "    ряда Тейлора для окрестности 0\n",
    "    \"\"\"\n",
    "    x_pow = x\n",
    "    multiplier = 1\n",
    "    partial_sum = x\n",
    "    for n in range(1, ITERATIONS):\n",
    "        x_pow *= x**2  # В цикле постепенно считаем степень\n",
    "        multiplier *= -1 / (2*n) / (2*n + 1)  # (-1)^n и факториал\n",
    "        partial_sum += x_pow * multiplier\n",
    "    \n",
    "    return partial_sum\n",
    "\n",
    "print(help(math.sin), math.sin(0.4))\n",
    "print(help(my_sin), my_sin(0.4))"
   ]
  },
  {
   "cell_type": "markdown",
   "metadata": {},
   "source": [
    "выходит у нас немного неточно, но зато...\n",
    "\n",
    "... Зато наша функция умеет считать синус комплексного аргумента, легко достигающий пяти и более в мирное время. Мнимая единица ($i$) в Питоне обозначется, как `j`.\n",
    "\n",
    "Стандартная библиотека тоже умеет, **и поточнее**."
   ]
  },
  {
   "cell_type": "code",
   "execution_count": null,
   "metadata": {},
   "outputs": [],
   "source": [
    "import math\n",
    "import cmath\n",
    "\n",
    "complex_angle = cmath.asin(5)\n",
    "print('\"Угол\", на котором синус достигает пяти:', complex_angle)\n",
    "\n",
    "print(\"Достигает ли пяти наш синус?\", my_sin(complex_angle))\n",
    "print(\"А библиотечный?\", cmath.sin(complex_angle))"
   ]
  },
  {
   "cell_type": "markdown",
   "metadata": {},
   "source": [
    "А какое и где слабое место у нашего синуса?"
   ]
  },
  {
   "cell_type": "code",
   "execution_count": null,
   "metadata": {},
   "outputs": [],
   "source": [
    "%matplotlib inline\n",
    "from IPython.display import set_matplotlib_formats\n",
    "set_matplotlib_formats('pdf', 'svg')\n",
    "\n",
    "\n",
    "import matplotlib.pyplot as plt\n",
    "import numpy as np\n",
    "\n",
    "vs = np.vectorize(my_sin)\n",
    "print(my_sin, vs)\n",
    "\n",
    "angles = np.r_[-16.25:16.25:0.01]\n",
    "plt.plot(angles, np.sin(angles))\n",
    "plt.plot(angles, vs(angles))\n",
    "plt.show()"
   ]
  },
  {
   "cell_type": "markdown",
   "metadata": {},
   "source": [
    "# Задание\n",
    "\n",
    "Реализовать вычисление частичной суммы [ряда Тейлора для одной из элементарных функций](http://ru.math.wikia.com/wiki/%D0%A0%D1%8F%D0%B4_%D0%A2%D0%B5%D0%B9%D0%BB%D0%BE%D1%80%D0%B0) (кроме синуса 😸), аналогичным образом «испытать» получившиеся функции. "
   ]
  }
 ],
 "metadata": {
  "kernelspec": {
   "display_name": "Python 3",
   "language": "python",
   "name": "python3"
  },
  "language_info": {
   "codemirror_mode": {
    "name": "ipython",
    "version": 3
   },
   "file_extension": ".py",
   "mimetype": "text/x-python",
   "name": "python",
   "nbconvert_exporter": "python",
   "pygments_lexer": "ipython3",
   "version": "3.7.0"
  }
 },
 "nbformat": 4,
 "nbformat_minor": 4
}

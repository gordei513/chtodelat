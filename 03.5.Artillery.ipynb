{
 "cells": [
  {
   "cell_type": "markdown",
   "metadata": {},
   "source": [
    "# Классы\n",
    "\n",
    "Класс — тип, опрределённый программистом. Может предоставлять наружу поля (переменные специального вида) и методы (функции специального вида). Попробуем определить класс — тело, у которого есть две координаты и скорость по двум направлениям.\n",
    "\n",
    "Для того, чтобы создать поле, достаточно ему что-то присовить. В питоне это можно сделать в любой момент, в том числе и «снаружи» от объекта. Но лучше инициализировать поля специальным методом — конструктором. В Питоне конструктор имеет имя `__init__`. У методов, за исключением статических, есть параметр `self`, находящийся в списке параметров первым. Если мы вызываем метод объекта, как `obj.meth(1,2,3)`, то, включая `self`, метод `meth` получит параметры `obj, 1, 2, 3`. Посмотрите, как `__init__` присваивает полям объекта `self` значения своих аргументов.\n",
    "\n",
    "Также поля можно использовать и изменять, как в методе `advance`."
   ]
  },
  {
   "cell_type": "code",
   "execution_count": 1,
   "metadata": {},
   "outputs": [],
   "source": [
    "import math\n",
    "\n",
    "MODEL_G = 9.81\n",
    "MODEL_DT = 0.001\n",
    "\n",
    "class Body:\n",
    "    def __init__(self, x, y, vx, vy):\n",
    "        \"\"\"\n",
    "        Создать тело.\n",
    "        \n",
    "        Пареметры:\n",
    "        ----------\n",
    "        x: float\n",
    "            горизонтальная координата\n",
    "        y: float\n",
    "            вертикальная координата\n",
    "        vx: float\n",
    "            горизонтальная скорость\n",
    "        vy: float\n",
    "            вертикальная скорость\n",
    "        \"\"\"\n",
    "\n",
    "        self.x = x\n",
    "        self.y = y\n",
    "        self.vx = vx\n",
    "        self.vy = vy\n",
    "        \n",
    "        self.trajectory_x = []\n",
    "        self.trajectory_y = []\n",
    "        \n",
    "\n",
    "    def advance(self):\n",
    "        \"\"\"\n",
    "        Выполнить шаг мат. модели применительно к телу, предварительно записав его координаты\n",
    "        \"\"\"\n",
    "        self.trajectory_x.append(self.x)\n",
    "        self.trajectory_y.append(self.y)\n",
    "        \n",
    "        self.x += self.vx * MODEL_DT\n",
    "        self.y += self.vy * MODEL_DT\n",
    "        self.vy -= MODEL_G * MODEL_DT"
   ]
  },
  {
   "cell_type": "markdown",
   "metadata": {},
   "source": [
    "# Наследование\n",
    "\n",
    "![](img/oop.jpg)\n",
    "\n",
    "Основные принципы \\[основанного на классах\\] объектно-ориентированного программирования:\n",
    "\n",
    "* **Инкапсуляция** — сокрытие деталей реализации за простым интерфейсом. Мы уже сделали это в конструкторе и методе `advance`.\n",
    "* **Наследование** — создание иерархии от общего к частному. Например, физическое тело — это очень много что, но мы мало знаем о свойствах тела в принципе. Зато если у нас есть, скажем, ёжик, ракета и котлета, то их гораздо меньше, чем просто тел, но зато, опираясь на знания об их сущности, с ними миожно уже делать более интересные вещи.\n",
    "* **Полиморфизм** — можно сказать, что это инкапсуляция применительно к наследованию. Например, у ёжика и у ракеты могут быть методы наподобие `отправиться_в_полёт`. При этом ёжик и ракета делают это по-разному, но если мы хотим отправлть в полёт физическое тело вообще, то хорошо бы, чтобы можно было так и написать `объект.отправиться_в_полёт()`. При этом *реализации* этого метода будут у всех разные, и они сами будут разбираться в том, как им следует летать.\n",
    "\n",
    "В общем, давайте сделаем ракету, например, «Катюшу», которая будет на первых этапах полёта разгоняться и терять в массе. А метод `advance` будет это учитывать."
   ]
  },
  {
   "cell_type": "code",
   "execution_count": 2,
   "metadata": {},
   "outputs": [],
   "source": [
    "class Rocket(Body):\n",
    "    def __init__(self, x, y):\n",
    "        \"\"\"\n",
    "        Создать ракету.\n",
    "        \n",
    "        Пареметры:\n",
    "        ----------\n",
    "        x: float\n",
    "            горизонтальная координата\n",
    "        y: float\n",
    "            вертикальная координата\n",
    "        \"\"\"\n",
    "        super().__init__(x, y, 10, 10) # Вызовем конструктор предка — тела, т.к. он для ракеты актуален\n",
    "        pass # Дописать\n",
    "\n",
    "    def advance(self):\n",
    "        super().advance() # вызовем метод предка — тела, т.к. и он для ракеты актуален.\n",
    "        pass # Дописать"
   ]
  },
  {
   "cell_type": "markdown",
   "metadata": {},
   "source": [
    "# Домашнее задание\n",
    "\n",
    "Наша ракета здесь — не очень-то и ракета. Требуется дописать её `__init__` и `__advance__` так, чтобы:\n",
    "\n",
    "* Она летела, ускоряясь и теряя в массе, пока не прогорит порох, а потом летела, как тело\n",
    "* М.б. ещё что-нибудь нафантазировать про неё =)"
   ]
  },
  {
   "cell_type": "code",
   "execution_count": 3,
   "metadata": {},
   "outputs": [],
   "source": [
    "import numpy as np\n",
    "\n",
    "np.sin\n",
    "\n",
    "b = Body(0, 0, 9, 9)\n",
    "r = Rocket(0, 0)\n",
    "\n",
    "bodies = [b, r]\n",
    "# Дальше мы уже не будем думать, кто тут ёжик, кто ракета, а кто котлета —\n",
    "# благодаря возможностям ООП будем просто работать со списком тел\n",
    "\n",
    "for t in np.r_[0:2:MODEL_DT]: # для всех временных отрезков\n",
    "    for b in bodies: # для всех тел\n",
    "        b.advance() # выполним шаг"
   ]
  },
  {
   "cell_type": "code",
   "execution_count": 74,
   "metadata": {},
   "outputs": [
    {
     "data": {
      "text/plain": [
       "[<matplotlib.lines.Line2D at 0xcf56c18>]"
      ]
     },
     "execution_count": 74,
     "metadata": {},
     "output_type": "execute_result"
    },
    {
     "data": {
      "image/png": "[encoded data removed]",
      "text/plain": [
       "<Figure size 432x288 with 1 Axes>"
      ]
     },
     "metadata": {
      "needs_background": "light"
     },
     "output_type": "display_data"
    }
   ],
   "source": [
    "%matplotlib inline\n",
    "from matplotlib import pyplot as pp\n",
    "\n",
    "for b in bodies: # для всех тел\n",
    "    pp.plot(b.trajectory_x, b.trajectory_y) # нарисуем их траектории"
   ]
  },
  {
   "cell_type": "code",
   "execution_count": null,
   "metadata": {},
   "outputs": [],
   "source": []
  }
 ],
 "metadata": {
  "kernelspec": {
   "display_name": "Python 3",
   "language": "python",
   "name": "python3"
  },
  "language_info": {
   "codemirror_mode": {
    "name": "ipython",
    "version": 3
   },
   "file_extension": ".py",
   "mimetype": "text/x-python",
   "name": "python",
   "nbconvert_exporter": "python",
   "pygments_lexer": "ipython3",
   "version": "3.8.6"
  }
 },
 "nbformat": 4,
 "nbformat_minor": 4
}
